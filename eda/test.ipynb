{
 "cells": [
  {
   "cell_type": "code",
   "execution_count": 1,
   "metadata": {},
   "outputs": [],
   "source": [
    "import requests\n",
    "import json\n",
    "import pandas as pd\n",
    "from pandas import json_normalize"
   ]
  },
  {
   "cell_type": "code",
   "execution_count": 3,
   "metadata": {},
   "outputs": [
    {
     "data": {
      "text/html": [
       "<div>\n",
       "<style scoped>\n",
       "    .dataframe tbody tr th:only-of-type {\n",
       "        vertical-align: middle;\n",
       "    }\n",
       "\n",
       "    .dataframe tbody tr th {\n",
       "        vertical-align: top;\n",
       "    }\n",
       "\n",
       "    .dataframe thead th {\n",
       "        text-align: right;\n",
       "    }\n",
       "</style>\n",
       "<table border=\"1\" class=\"dataframe\">\n",
       "  <thead>\n",
       "    <tr style=\"text-align: right;\">\n",
       "      <th></th>\n",
       "      <th>Country</th>\n",
       "      <th>capital</th>\n",
       "      <th>lat</th>\n",
       "      <th>lon</th>\n",
       "      <th>code</th>\n",
       "      <th>continent</th>\n",
       "    </tr>\n",
       "  </thead>\n",
       "  <tbody>\n",
       "    <tr>\n",
       "      <th>124</th>\n",
       "      <td>Latvia</td>\n",
       "      <td>Riga</td>\n",
       "      <td>56.950000</td>\n",
       "      <td>24.100000</td>\n",
       "      <td>LV</td>\n",
       "      <td>Europe</td>\n",
       "    </tr>\n",
       "    <tr>\n",
       "      <th>53</th>\n",
       "      <td>Cocos Islands</td>\n",
       "      <td>West Island</td>\n",
       "      <td>-12.166667</td>\n",
       "      <td>96.833333</td>\n",
       "      <td>CC</td>\n",
       "      <td>Australia</td>\n",
       "    </tr>\n",
       "    <tr>\n",
       "      <th>56</th>\n",
       "      <td>Democratic Republic of the Congo</td>\n",
       "      <td>Kinshasa</td>\n",
       "      <td>-4.316667</td>\n",
       "      <td>15.300000</td>\n",
       "      <td>CD</td>\n",
       "      <td>Africa</td>\n",
       "    </tr>\n",
       "  </tbody>\n",
       "</table>\n",
       "</div>"
      ],
      "text/plain": [
       "                              Country      capital        lat        lon code  \\\n",
       "124                            Latvia         Riga  56.950000  24.100000   LV   \n",
       "53                      Cocos Islands  West Island -12.166667  96.833333   CC   \n",
       "56   Democratic Republic of the Congo     Kinshasa  -4.316667  15.300000   CD   \n",
       "\n",
       "     continent  \n",
       "124     Europe  \n",
       "53   Australia  \n",
       "56      Africa  "
      ]
     },
     "execution_count": 3,
     "metadata": {},
     "output_type": "execute_result"
    }
   ],
   "source": [
    "# load the dataframe with capitals\n",
    "df = pd.read_csv(\"concap.csv\")\n",
    "\n",
    "# rename so that the column names are shorter and comply with PEP-8\n",
    "df.rename(columns={\"CountryName\": \"Country\", \"CapitalName\": \"capital\", \"CapitalLatitude\": \"lat\", \"CapitalLongitude\": \"lon\", \"CountryCode\": \"code\", \"ContinentName\": \"continent\"}, inplace=True)\n",
    "df.sample(3)\n"
   ]
  },
  {
   "cell_type": "code",
   "execution_count": 4,
   "metadata": {},
   "outputs": [
    {
     "data": {
      "text/html": [
       "<div>\n",
       "<style scoped>\n",
       "    .dataframe tbody tr th:only-of-type {\n",
       "        vertical-align: middle;\n",
       "    }\n",
       "\n",
       "    .dataframe tbody tr th {\n",
       "        vertical-align: top;\n",
       "    }\n",
       "\n",
       "    .dataframe thead th {\n",
       "        text-align: right;\n",
       "    }\n",
       "</style>\n",
       "<table border=\"1\" class=\"dataframe\">\n",
       "  <thead>\n",
       "    <tr style=\"text-align: right;\">\n",
       "      <th></th>\n",
       "      <th>index</th>\n",
       "      <th>Country</th>\n",
       "      <th>capital</th>\n",
       "      <th>lat</th>\n",
       "      <th>lon</th>\n",
       "      <th>code</th>\n",
       "      <th>continent</th>\n",
       "    </tr>\n",
       "  </thead>\n",
       "  <tbody>\n",
       "    <tr>\n",
       "      <th>0</th>\n",
       "      <td>81</td>\n",
       "      <td>France</td>\n",
       "      <td>Paris</td>\n",
       "      <td>48.866667</td>\n",
       "      <td>2.333333</td>\n",
       "      <td>FR</td>\n",
       "      <td>Europe</td>\n",
       "    </tr>\n",
       "    <tr>\n",
       "      <th>1</th>\n",
       "      <td>110</td>\n",
       "      <td>Italy</td>\n",
       "      <td>Rome</td>\n",
       "      <td>41.900000</td>\n",
       "      <td>12.483333</td>\n",
       "      <td>IT</td>\n",
       "      <td>Europe</td>\n",
       "    </tr>\n",
       "  </tbody>\n",
       "</table>\n",
       "</div>"
      ],
      "text/plain": [
       "   index Country capital        lat        lon code continent\n",
       "0     81  France   Paris  48.866667   2.333333   FR    Europe\n",
       "1    110   Italy    Rome  41.900000  12.483333   IT    Europe"
      ]
     },
     "execution_count": 4,
     "metadata": {},
     "output_type": "execute_result"
    }
   ],
   "source": [
    "# to start with let's filter only 2 capitals. Rome and Paris.\n",
    "ropa = df[df[\"capital\"].isin([\"Rome\",\"Paris\"])].reset_index()\n",
    "ropa"
   ]
  },
  {
   "cell_type": "code",
   "execution_count": 25,
   "metadata": {},
   "outputs": [],
   "source": [
    "lat_1 = '47.4254570232' # Hochbauamt\n",
    "lon_1 = '9.37577578175'\n",
    "lat_2 = '47.4249702' # Liegenschaften\n",
    "lon_2 = '9.3730005'\n"
   ]
  },
  {
   "cell_type": "code",
   "execution_count": 26,
   "metadata": {},
   "outputs": [],
   "source": [
    "# call the OSMR API\n",
    "r = requests.get(f\"http://router.project-osrm.org/route/v1/foot/{lon_1},{lat_1};{lon_2},{lat_2}?overview=false\"\"\")"
   ]
  },
  {
   "cell_type": "code",
   "execution_count": 27,
   "metadata": {},
   "outputs": [],
   "source": [
    "routes = json.loads(r.content)\n",
    "route_1 = routes.get(\"routes\")[0]"
   ]
  },
  {
   "cell_type": "code",
   "execution_count": 28,
   "metadata": {},
   "outputs": [
    {
     "data": {
      "text/plain": [
       "'0:01:11.800000'"
      ]
     },
     "execution_count": 28,
     "metadata": {},
     "output_type": "execute_result"
    }
   ],
   "source": [
    "str(datetime.timedelta(seconds=route_1[\"duration\"]))"
   ]
  },
  {
   "cell_type": "code",
   "execution_count": 16,
   "metadata": {},
   "outputs": [],
   "source": [
    "import datetime"
   ]
  },
  {
   "cell_type": "code",
   "execution_count": 5,
   "metadata": {},
   "outputs": [],
   "source": [
    "r = requests.get('https://daten.stadt.sg.ch/api/records/1.0/search/?dataset=freie-parkplatze-in-der-stadt-stgallen-pls&q=&geofilter.distance=47.42427%2C9.37186%2C70')"
   ]
  },
  {
   "cell_type": "code",
   "execution_count": 17,
   "metadata": {},
   "outputs": [],
   "source": [
    "df = json_normalize(json.loads(r.content)['records'])"
   ]
  },
  {
   "cell_type": "code",
   "execution_count": 21,
   "metadata": {},
   "outputs": [],
   "source": [
    "df[['lat','lon']] = df['geometry.coordinates'].tolist()"
   ]
  },
  {
   "cell_type": "code",
   "execution_count": 22,
   "metadata": {},
   "outputs": [
    {
     "data": {
      "text/html": [
       "<div>\n",
       "<style scoped>\n",
       "    .dataframe tbody tr th:only-of-type {\n",
       "        vertical-align: middle;\n",
       "    }\n",
       "\n",
       "    .dataframe tbody tr th {\n",
       "        vertical-align: top;\n",
       "    }\n",
       "\n",
       "    .dataframe thead th {\n",
       "        text-align: right;\n",
       "    }\n",
       "</style>\n",
       "<table border=\"1\" class=\"dataframe\">\n",
       "  <thead>\n",
       "    <tr style=\"text-align: right;\">\n",
       "      <th></th>\n",
       "      <th>datasetid</th>\n",
       "      <th>recordid</th>\n",
       "      <th>record_timestamp</th>\n",
       "      <th>fields.zeitpunkt</th>\n",
       "      <th>fields.belegung_prozent</th>\n",
       "      <th>fields.phid</th>\n",
       "      <th>fields.shortmax</th>\n",
       "      <th>fields.shortfree</th>\n",
       "      <th>fields.shortoccupied</th>\n",
       "      <th>fields.standort</th>\n",
       "      <th>fields.phstate</th>\n",
       "      <th>fields.dist</th>\n",
       "      <th>fields.phname</th>\n",
       "      <th>geometry.type</th>\n",
       "      <th>geometry.coordinates</th>\n",
       "      <th>lat</th>\n",
       "      <th>lon</th>\n",
       "    </tr>\n",
       "  </thead>\n",
       "  <tbody>\n",
       "    <tr>\n",
       "      <th>0</th>\n",
       "      <td>freie-parkplatze-in-der-stadt-stgallen-pls</td>\n",
       "      <td>6e76a2a3d268993aaf5a705f865891d39303d0b3</td>\n",
       "      <td>2021-10-22T07:49:00.368000+00:00</td>\n",
       "      <td>2021-10-22T07:46:37+00:00</td>\n",
       "      <td>88</td>\n",
       "      <td>P22</td>\n",
       "      <td>84</td>\n",
       "      <td>10</td>\n",
       "      <td>74</td>\n",
       "      <td>[47.424453, 9.371221]</td>\n",
       "      <td>offen</td>\n",
       "      <td>52.2025071449</td>\n",
       "      <td>Rathaus</td>\n",
       "      <td>Point</td>\n",
       "      <td>[9.371221, 47.424453]</td>\n",
       "      <td>9.371221</td>\n",
       "      <td>47.424453</td>\n",
       "    </tr>\n",
       "  </tbody>\n",
       "</table>\n",
       "</div>"
      ],
      "text/plain": [
       "                                    datasetid  \\\n",
       "0  freie-parkplatze-in-der-stadt-stgallen-pls   \n",
       "\n",
       "                                   recordid                  record_timestamp  \\\n",
       "0  6e76a2a3d268993aaf5a705f865891d39303d0b3  2021-10-22T07:49:00.368000+00:00   \n",
       "\n",
       "            fields.zeitpunkt  fields.belegung_prozent fields.phid  \\\n",
       "0  2021-10-22T07:46:37+00:00                       88         P22   \n",
       "\n",
       "   fields.shortmax  fields.shortfree  fields.shortoccupied  \\\n",
       "0               84                10                    74   \n",
       "\n",
       "         fields.standort fields.phstate    fields.dist fields.phname  \\\n",
       "0  [47.424453, 9.371221]          offen  52.2025071449       Rathaus   \n",
       "\n",
       "  geometry.type   geometry.coordinates       lat        lon  \n",
       "0         Point  [9.371221, 47.424453]  9.371221  47.424453  "
      ]
     },
     "execution_count": 22,
     "metadata": {},
     "output_type": "execute_result"
    }
   ],
   "source": [
    "df"
   ]
  },
  {
   "cell_type": "code",
   "execution_count": null,
   "metadata": {},
   "outputs": [],
   "source": []
  }
 ],
 "metadata": {
  "interpreter": {
   "hash": "60fb0d7b359712e42f3d653005934c80c9347001e7d60d64717812a5581bff06"
  },
  "kernelspec": {
   "display_name": "Python 3.8.3 64-bit ('sghack': venv)",
   "name": "python3"
  },
  "language_info": {
   "codemirror_mode": {
    "name": "ipython",
    "version": 3
   },
   "file_extension": ".py",
   "mimetype": "text/x-python",
   "name": "python",
   "nbconvert_exporter": "python",
   "pygments_lexer": "ipython3",
   "version": "3.8.3"
  },
  "orig_nbformat": 4
 },
 "nbformat": 4,
 "nbformat_minor": 2
}
