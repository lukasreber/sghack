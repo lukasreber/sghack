{
 "cells": [
  {
   "cell_type": "code",
   "execution_count": 6,
   "metadata": {},
   "outputs": [],
   "source": [
    "import requests\n",
    "import json\n",
    "import pandas as pd\n",
    "from pandas import json_normalize\n",
    "import datetime\n"
   ]
  },
  {
   "cell_type": "code",
   "execution_count": 3,
   "metadata": {},
   "outputs": [
    {
     "data": {
      "text/html": [
       "<div>\n",
       "<style scoped>\n",
       "    .dataframe tbody tr th:only-of-type {\n",
       "        vertical-align: middle;\n",
       "    }\n",
       "\n",
       "    .dataframe tbody tr th {\n",
       "        vertical-align: top;\n",
       "    }\n",
       "\n",
       "    .dataframe thead th {\n",
       "        text-align: right;\n",
       "    }\n",
       "</style>\n",
       "<table border=\"1\" class=\"dataframe\">\n",
       "  <thead>\n",
       "    <tr style=\"text-align: right;\">\n",
       "      <th></th>\n",
       "      <th>Country</th>\n",
       "      <th>capital</th>\n",
       "      <th>lat</th>\n",
       "      <th>lon</th>\n",
       "      <th>code</th>\n",
       "      <th>continent</th>\n",
       "    </tr>\n",
       "  </thead>\n",
       "  <tbody>\n",
       "    <tr>\n",
       "      <th>124</th>\n",
       "      <td>Latvia</td>\n",
       "      <td>Riga</td>\n",
       "      <td>56.950000</td>\n",
       "      <td>24.100000</td>\n",
       "      <td>LV</td>\n",
       "      <td>Europe</td>\n",
       "    </tr>\n",
       "    <tr>\n",
       "      <th>53</th>\n",
       "      <td>Cocos Islands</td>\n",
       "      <td>West Island</td>\n",
       "      <td>-12.166667</td>\n",
       "      <td>96.833333</td>\n",
       "      <td>CC</td>\n",
       "      <td>Australia</td>\n",
       "    </tr>\n",
       "    <tr>\n",
       "      <th>56</th>\n",
       "      <td>Democratic Republic of the Congo</td>\n",
       "      <td>Kinshasa</td>\n",
       "      <td>-4.316667</td>\n",
       "      <td>15.300000</td>\n",
       "      <td>CD</td>\n",
       "      <td>Africa</td>\n",
       "    </tr>\n",
       "  </tbody>\n",
       "</table>\n",
       "</div>"
      ],
      "text/plain": [
       "                              Country      capital        lat        lon code  \\\n",
       "124                            Latvia         Riga  56.950000  24.100000   LV   \n",
       "53                      Cocos Islands  West Island -12.166667  96.833333   CC   \n",
       "56   Democratic Republic of the Congo     Kinshasa  -4.316667  15.300000   CD   \n",
       "\n",
       "     continent  \n",
       "124     Europe  \n",
       "53   Australia  \n",
       "56      Africa  "
      ]
     },
     "execution_count": 3,
     "metadata": {},
     "output_type": "execute_result"
    }
   ],
   "source": [
    "# load the dataframe with capitals\n",
    "df = pd.read_csv(\"concap.csv\")\n",
    "\n",
    "# rename so that the column names are shorter and comply with PEP-8\n",
    "df.rename(columns={\"CountryName\": \"Country\", \"CapitalName\": \"capital\", \"CapitalLatitude\": \"lat\", \"CapitalLongitude\": \"lon\", \"CountryCode\": \"code\", \"ContinentName\": \"continent\"}, inplace=True)\n",
    "df.sample(3)\n"
   ]
  },
  {
   "cell_type": "code",
   "execution_count": 4,
   "metadata": {},
   "outputs": [
    {
     "data": {
      "text/html": [
       "<div>\n",
       "<style scoped>\n",
       "    .dataframe tbody tr th:only-of-type {\n",
       "        vertical-align: middle;\n",
       "    }\n",
       "\n",
       "    .dataframe tbody tr th {\n",
       "        vertical-align: top;\n",
       "    }\n",
       "\n",
       "    .dataframe thead th {\n",
       "        text-align: right;\n",
       "    }\n",
       "</style>\n",
       "<table border=\"1\" class=\"dataframe\">\n",
       "  <thead>\n",
       "    <tr style=\"text-align: right;\">\n",
       "      <th></th>\n",
       "      <th>index</th>\n",
       "      <th>Country</th>\n",
       "      <th>capital</th>\n",
       "      <th>lat</th>\n",
       "      <th>lon</th>\n",
       "      <th>code</th>\n",
       "      <th>continent</th>\n",
       "    </tr>\n",
       "  </thead>\n",
       "  <tbody>\n",
       "    <tr>\n",
       "      <th>0</th>\n",
       "      <td>81</td>\n",
       "      <td>France</td>\n",
       "      <td>Paris</td>\n",
       "      <td>48.866667</td>\n",
       "      <td>2.333333</td>\n",
       "      <td>FR</td>\n",
       "      <td>Europe</td>\n",
       "    </tr>\n",
       "    <tr>\n",
       "      <th>1</th>\n",
       "      <td>110</td>\n",
       "      <td>Italy</td>\n",
       "      <td>Rome</td>\n",
       "      <td>41.900000</td>\n",
       "      <td>12.483333</td>\n",
       "      <td>IT</td>\n",
       "      <td>Europe</td>\n",
       "    </tr>\n",
       "  </tbody>\n",
       "</table>\n",
       "</div>"
      ],
      "text/plain": [
       "   index Country capital        lat        lon code continent\n",
       "0     81  France   Paris  48.866667   2.333333   FR    Europe\n",
       "1    110   Italy    Rome  41.900000  12.483333   IT    Europe"
      ]
     },
     "execution_count": 4,
     "metadata": {},
     "output_type": "execute_result"
    }
   ],
   "source": [
    "# to start with let's filter only 2 capitals. Rome and Paris.\n",
    "ropa = df[df[\"capital\"].isin([\"Rome\",\"Paris\"])].reset_index()\n",
    "ropa"
   ]
  },
  {
   "cell_type": "code",
   "execution_count": 2,
   "metadata": {},
   "outputs": [],
   "source": [
    "lat_1 = '47.4254570232' # Hochbauamt\n",
    "lon_1 = '9.37577578175'\n",
    "lat_2 = '47.4249702' # Liegenschaften\n",
    "lon_2 = '9.3730005'\n"
   ]
  },
  {
   "cell_type": "code",
   "execution_count": 3,
   "metadata": {},
   "outputs": [],
   "source": [
    "# call the OSMR API\n",
    "r = requests.get(f\"http://router.project-osrm.org/route/v1/foot/{lon_1},{lat_1};{lon_2},{lat_2}?overview=false\"\"\")"
   ]
  },
  {
   "cell_type": "code",
   "execution_count": 4,
   "metadata": {},
   "outputs": [],
   "source": [
    "routes = json.loads(r.content)\n",
    "route_1 = routes.get(\"routes\")[0]"
   ]
  },
  {
   "cell_type": "code",
   "execution_count": 7,
   "metadata": {},
   "outputs": [
    {
     "data": {
      "text/plain": [
       "'0:01:11.800000'"
      ]
     },
     "execution_count": 7,
     "metadata": {},
     "output_type": "execute_result"
    }
   ],
   "source": [
    "str(datetime.timedelta(seconds=route_1[\"duration\"]))"
   ]
  },
  {
   "cell_type": "code",
   "execution_count": 16,
   "metadata": {},
   "outputs": [],
   "source": [
    "import datetime"
   ]
  },
  {
   "cell_type": "code",
   "execution_count": 5,
   "metadata": {},
   "outputs": [],
   "source": [
    "r = requests.get('https://daten.stadt.sg.ch/api/records/1.0/search/?dataset=freie-parkplatze-in-der-stadt-stgallen-pls&q=&geofilter.distance=47.42427%2C9.37186%2C70')"
   ]
  },
  {
   "cell_type": "code",
   "execution_count": 17,
   "metadata": {},
   "outputs": [],
   "source": [
    "df = json_normalize(json.loads(r.content)['records'])"
   ]
  },
  {
   "cell_type": "code",
   "execution_count": 21,
   "metadata": {},
   "outputs": [],
   "source": [
    "df[['lat','lon']] = df['geometry.coordinates'].tolist()"
   ]
  },
  {
   "cell_type": "code",
   "execution_count": 22,
   "metadata": {},
   "outputs": [
    {
     "data": {
      "text/html": [
       "<div>\n",
       "<style scoped>\n",
       "    .dataframe tbody tr th:only-of-type {\n",
       "        vertical-align: middle;\n",
       "    }\n",
       "\n",
       "    .dataframe tbody tr th {\n",
       "        vertical-align: top;\n",
       "    }\n",
       "\n",
       "    .dataframe thead th {\n",
       "        text-align: right;\n",
       "    }\n",
       "</style>\n",
       "<table border=\"1\" class=\"dataframe\">\n",
       "  <thead>\n",
       "    <tr style=\"text-align: right;\">\n",
       "      <th></th>\n",
       "      <th>datasetid</th>\n",
       "      <th>recordid</th>\n",
       "      <th>record_timestamp</th>\n",
       "      <th>fields.zeitpunkt</th>\n",
       "      <th>fields.belegung_prozent</th>\n",
       "      <th>fields.phid</th>\n",
       "      <th>fields.shortmax</th>\n",
       "      <th>fields.shortfree</th>\n",
       "      <th>fields.shortoccupied</th>\n",
       "      <th>fields.standort</th>\n",
       "      <th>fields.phstate</th>\n",
       "      <th>fields.dist</th>\n",
       "      <th>fields.phname</th>\n",
       "      <th>geometry.type</th>\n",
       "      <th>geometry.coordinates</th>\n",
       "      <th>lat</th>\n",
       "      <th>lon</th>\n",
       "    </tr>\n",
       "  </thead>\n",
       "  <tbody>\n",
       "    <tr>\n",
       "      <th>0</th>\n",
       "      <td>freie-parkplatze-in-der-stadt-stgallen-pls</td>\n",
       "      <td>6e76a2a3d268993aaf5a705f865891d39303d0b3</td>\n",
       "      <td>2021-10-22T07:49:00.368000+00:00</td>\n",
       "      <td>2021-10-22T07:46:37+00:00</td>\n",
       "      <td>88</td>\n",
       "      <td>P22</td>\n",
       "      <td>84</td>\n",
       "      <td>10</td>\n",
       "      <td>74</td>\n",
       "      <td>[47.424453, 9.371221]</td>\n",
       "      <td>offen</td>\n",
       "      <td>52.2025071449</td>\n",
       "      <td>Rathaus</td>\n",
       "      <td>Point</td>\n",
       "      <td>[9.371221, 47.424453]</td>\n",
       "      <td>9.371221</td>\n",
       "      <td>47.424453</td>\n",
       "    </tr>\n",
       "  </tbody>\n",
       "</table>\n",
       "</div>"
      ],
      "text/plain": [
       "                                    datasetid  \\\n",
       "0  freie-parkplatze-in-der-stadt-stgallen-pls   \n",
       "\n",
       "                                   recordid                  record_timestamp  \\\n",
       "0  6e76a2a3d268993aaf5a705f865891d39303d0b3  2021-10-22T07:49:00.368000+00:00   \n",
       "\n",
       "            fields.zeitpunkt  fields.belegung_prozent fields.phid  \\\n",
       "0  2021-10-22T07:46:37+00:00                       88         P22   \n",
       "\n",
       "   fields.shortmax  fields.shortfree  fields.shortoccupied  \\\n",
       "0               84                10                    74   \n",
       "\n",
       "         fields.standort fields.phstate    fields.dist fields.phname  \\\n",
       "0  [47.424453, 9.371221]          offen  52.2025071449       Rathaus   \n",
       "\n",
       "  geometry.type   geometry.coordinates       lat        lon  \n",
       "0         Point  [9.371221, 47.424453]  9.371221  47.424453  "
      ]
     },
     "execution_count": 22,
     "metadata": {},
     "output_type": "execute_result"
    }
   ],
   "source": [
    "df"
   ]
  },
  {
   "cell_type": "code",
   "execution_count": 17,
   "metadata": {},
   "outputs": [],
   "source": [
    "immo = pd.read_csv('https://raw.githubusercontent.com/cividi/st-gallen-urban-indicators/main/data/price-monitoring/price-monitoring.csv',usecols=['id','rent','lat','lng','street_number'])"
   ]
  },
  {
   "cell_type": "code",
   "execution_count": 18,
   "metadata": {},
   "outputs": [
    {
     "data": {
      "text/html": [
       "<div>\n",
       "<style scoped>\n",
       "    .dataframe tbody tr th:only-of-type {\n",
       "        vertical-align: middle;\n",
       "    }\n",
       "\n",
       "    .dataframe tbody tr th {\n",
       "        vertical-align: top;\n",
       "    }\n",
       "\n",
       "    .dataframe thead th {\n",
       "        text-align: right;\n",
       "    }\n",
       "</style>\n",
       "<table border=\"1\" class=\"dataframe\">\n",
       "  <thead>\n",
       "    <tr style=\"text-align: right;\">\n",
       "      <th></th>\n",
       "      <th>id</th>\n",
       "      <th>rent</th>\n",
       "      <th>street_number</th>\n",
       "      <th>lat</th>\n",
       "      <th>lng</th>\n",
       "    </tr>\n",
       "  </thead>\n",
       "  <tbody>\n",
       "    <tr>\n",
       "      <th>0</th>\n",
       "      <td>108761792</td>\n",
       "      <td>1745</td>\n",
       "      <td>Berneggstrasse 28</td>\n",
       "      <td>47.420898</td>\n",
       "      <td>9.376225</td>\n",
       "    </tr>\n",
       "    <tr>\n",
       "      <th>1</th>\n",
       "      <td>2147994348</td>\n",
       "      <td>1720</td>\n",
       "      <td>Heiligkreuzstrasse 53</td>\n",
       "      <td>47.440407</td>\n",
       "      <td>9.393985</td>\n",
       "    </tr>\n",
       "    <tr>\n",
       "      <th>2</th>\n",
       "      <td>3000166218</td>\n",
       "      <td>1150</td>\n",
       "      <td>Lindenstrasse 76</td>\n",
       "      <td>47.433056</td>\n",
       "      <td>9.393829</td>\n",
       "    </tr>\n",
       "    <tr>\n",
       "      <th>3</th>\n",
       "      <td>3000251780</td>\n",
       "      <td>1390</td>\n",
       "      <td>Feldlistrasse 11</td>\n",
       "      <td>47.421700</td>\n",
       "      <td>9.356135</td>\n",
       "    </tr>\n",
       "    <tr>\n",
       "      <th>4</th>\n",
       "      <td>3000402506</td>\n",
       "      <td>2130</td>\n",
       "      <td>Goliathgasse 37</td>\n",
       "      <td>47.427975</td>\n",
       "      <td>9.377123</td>\n",
       "    </tr>\n",
       "  </tbody>\n",
       "</table>\n",
       "</div>"
      ],
      "text/plain": [
       "           id  rent          street_number        lat       lng\n",
       "0   108761792  1745      Berneggstrasse 28  47.420898  9.376225\n",
       "1  2147994348  1720  Heiligkreuzstrasse 53  47.440407  9.393985\n",
       "2  3000166218  1150       Lindenstrasse 76  47.433056  9.393829\n",
       "3  3000251780  1390       Feldlistrasse 11  47.421700  9.356135\n",
       "4  3000402506  2130        Goliathgasse 37  47.427975  9.377123"
      ]
     },
     "execution_count": 18,
     "metadata": {},
     "output_type": "execute_result"
    }
   ],
   "source": [
    "immo.head()"
   ]
  },
  {
   "cell_type": "code",
   "execution_count": 19,
   "metadata": {},
   "outputs": [],
   "source": [
    "immo = immo[~immo.lat.isna()]"
   ]
  },
  {
   "cell_type": "code",
   "execution_count": 23,
   "metadata": {},
   "outputs": [],
   "source": [
    "unisg = ['47.432277', '9.375572']"
   ]
  },
  {
   "cell_type": "code",
   "execution_count": 24,
   "metadata": {},
   "outputs": [
    {
     "data": {
      "text/plain": [
       "'9.375572'"
      ]
     },
     "execution_count": 24,
     "metadata": {},
     "output_type": "execute_result"
    }
   ],
   "source": [
    "unisg[1]"
   ]
  },
  {
   "cell_type": "code",
   "execution_count": 49,
   "metadata": {},
   "outputs": [],
   "source": [
    "# call the OSMR API\n",
    "r = json.loads(requests.get(f\"http://router.project-osrm.org/route/v1/foot/{immo.iloc[0].lng},{immo.iloc[0].lat};{unisg[1]},{unisg[0]}?overview=false\"\"\").content).get(\"routes\")[0]"
   ]
  },
  {
   "cell_type": "code",
   "execution_count": 54,
   "metadata": {},
   "outputs": [
    {
     "data": {
      "text/plain": [
       "2022.6"
      ]
     },
     "execution_count": 54,
     "metadata": {},
     "output_type": "execute_result"
    }
   ],
   "source": [
    "r['duration']"
   ]
  },
  {
   "cell_type": "code",
   "execution_count": 62,
   "metadata": {},
   "outputs": [],
   "source": [
    "dist = []\n",
    "dur = []\n",
    "for index,row in immo.iterrows():\n",
    "    r = json.loads(requests.get(f\"http://router.project-osrm.org/route/v1/foot/{row.lng},{row.lat};{unisg[1]},{unisg[0]}?overview=false\"\"\").content).get(\"routes\")[0]\n",
    "    dist.append(r['distance'])\n",
    "    dur.append(r['duration'])\n"
   ]
  },
  {
   "cell_type": "code",
   "execution_count": 73,
   "metadata": {},
   "outputs": [],
   "source": [
    "immo.insert(loc=len(immo.columns), column='distance_meters',value=dist)"
   ]
  },
  {
   "cell_type": "code",
   "execution_count": 75,
   "metadata": {},
   "outputs": [
    {
     "data": {
      "text/plain": [
       "id                  485\n",
       "rent                485\n",
       "street_number       485\n",
       "lat                 485\n",
       "lng                 485\n",
       "duration            485\n",
       "duration_seconds    485\n",
       "distance_meters     485\n",
       "dtype: int64"
      ]
     },
     "execution_count": 75,
     "metadata": {},
     "output_type": "execute_result"
    }
   ],
   "source": [
    "immo.count()"
   ]
  },
  {
   "cell_type": "code",
   "execution_count": 71,
   "metadata": {},
   "outputs": [],
   "source": [
    "immo.drop(columns='distance_meters',inplace=True)"
   ]
  },
  {
   "cell_type": "code",
   "execution_count": 59,
   "metadata": {},
   "outputs": [],
   "source": [
    "immo.rename(columns = {'distance':'duration'}, inplace=True)"
   ]
  },
  {
   "cell_type": "code",
   "execution_count": 74,
   "metadata": {},
   "outputs": [],
   "source": [
    "immo.to_csv('immo_uni.csv')"
   ]
  },
  {
   "cell_type": "code",
   "execution_count": 77,
   "metadata": {},
   "outputs": [
    {
     "data": {
      "text/html": [
       "<div>\n",
       "<style scoped>\n",
       "    .dataframe tbody tr th:only-of-type {\n",
       "        vertical-align: middle;\n",
       "    }\n",
       "\n",
       "    .dataframe tbody tr th {\n",
       "        vertical-align: top;\n",
       "    }\n",
       "\n",
       "    .dataframe thead th {\n",
       "        text-align: right;\n",
       "    }\n",
       "</style>\n",
       "<table border=\"1\" class=\"dataframe\">\n",
       "  <thead>\n",
       "    <tr style=\"text-align: right;\">\n",
       "      <th></th>\n",
       "      <th>id</th>\n",
       "      <th>rent</th>\n",
       "      <th>street_number</th>\n",
       "      <th>lat</th>\n",
       "      <th>lng</th>\n",
       "      <th>duration</th>\n",
       "      <th>duration_seconds</th>\n",
       "      <th>distance_meters</th>\n",
       "    </tr>\n",
       "  </thead>\n",
       "  <tbody>\n",
       "    <tr>\n",
       "      <th>2</th>\n",
       "      <td>3000166218</td>\n",
       "      <td>1150</td>\n",
       "      <td>Lindenstrasse 76</td>\n",
       "      <td>47.433056</td>\n",
       "      <td>9.393829</td>\n",
       "      <td>0:04:09.600000</td>\n",
       "      <td>249.6</td>\n",
       "      <td>1870.4</td>\n",
       "    </tr>\n",
       "    <tr>\n",
       "      <th>4</th>\n",
       "      <td>3000402506</td>\n",
       "      <td>2130</td>\n",
       "      <td>Goliathgasse 37</td>\n",
       "      <td>47.427975</td>\n",
       "      <td>9.377123</td>\n",
       "      <td>0:02:56.700000</td>\n",
       "      <td>176.7</td>\n",
       "      <td>1433.4</td>\n",
       "    </tr>\n",
       "    <tr>\n",
       "      <th>9</th>\n",
       "      <td>3000836173</td>\n",
       "      <td>1090</td>\n",
       "      <td>Langgasse 89</td>\n",
       "      <td>47.440033</td>\n",
       "      <td>9.391563</td>\n",
       "      <td>0:03:33.400000</td>\n",
       "      <td>213.4</td>\n",
       "      <td>1702.3</td>\n",
       "    </tr>\n",
       "    <tr>\n",
       "      <th>11</th>\n",
       "      <td>3000872761</td>\n",
       "      <td>1180</td>\n",
       "      <td>Linsebühlstrasse 16</td>\n",
       "      <td>47.424324</td>\n",
       "      <td>9.380756</td>\n",
       "      <td>0:03:17.200000</td>\n",
       "      <td>197.2</td>\n",
       "      <td>1792.9</td>\n",
       "    </tr>\n",
       "    <tr>\n",
       "      <th>12</th>\n",
       "      <td>3000873636</td>\n",
       "      <td>1640</td>\n",
       "      <td>Ludwigstr. 21</td>\n",
       "      <td>47.441250</td>\n",
       "      <td>9.378373</td>\n",
       "      <td>0:03:18.600000</td>\n",
       "      <td>198.6</td>\n",
       "      <td>1647.7</td>\n",
       "    </tr>\n",
       "    <tr>\n",
       "      <th>...</th>\n",
       "      <td>...</td>\n",
       "      <td>...</td>\n",
       "      <td>...</td>\n",
       "      <td>...</td>\n",
       "      <td>...</td>\n",
       "      <td>...</td>\n",
       "      <td>...</td>\n",
       "      <td>...</td>\n",
       "    </tr>\n",
       "    <tr>\n",
       "      <th>525</th>\n",
       "      <td>3001451526</td>\n",
       "      <td>940</td>\n",
       "      <td>Engelgasse 8</td>\n",
       "      <td>47.426357</td>\n",
       "      <td>9.374825</td>\n",
       "      <td>0:03:59.600000</td>\n",
       "      <td>239.6</td>\n",
       "      <td>1607.2</td>\n",
       "    </tr>\n",
       "    <tr>\n",
       "      <th>528</th>\n",
       "      <td>3001454103</td>\n",
       "      <td>1180</td>\n",
       "      <td>Langgasse 46</td>\n",
       "      <td>47.437061</td>\n",
       "      <td>9.388271</td>\n",
       "      <td>0:02:55.800000</td>\n",
       "      <td>175.8</td>\n",
       "      <td>1286.1</td>\n",
       "    </tr>\n",
       "    <tr>\n",
       "      <th>529</th>\n",
       "      <td>3001454127</td>\n",
       "      <td>1590</td>\n",
       "      <td>Langgasse 46</td>\n",
       "      <td>47.437061</td>\n",
       "      <td>9.388271</td>\n",
       "      <td>0:02:55.800000</td>\n",
       "      <td>175.8</td>\n",
       "      <td>1286.1</td>\n",
       "    </tr>\n",
       "    <tr>\n",
       "      <th>544</th>\n",
       "      <td>3001465599</td>\n",
       "      <td>1240</td>\n",
       "      <td>Moosbruggstrasse 5</td>\n",
       "      <td>47.423676</td>\n",
       "      <td>9.379521</td>\n",
       "      <td>0:03:21.600000</td>\n",
       "      <td>201.6</td>\n",
       "      <td>1823.4</td>\n",
       "    </tr>\n",
       "    <tr>\n",
       "      <th>547</th>\n",
       "      <td>3001470695</td>\n",
       "      <td>1340</td>\n",
       "      <td>Höhenweg 13</td>\n",
       "      <td>47.429504</td>\n",
       "      <td>9.372371</td>\n",
       "      <td>0:01:47.300000</td>\n",
       "      <td>107.3</td>\n",
       "      <td>716.9</td>\n",
       "    </tr>\n",
       "  </tbody>\n",
       "</table>\n",
       "<p>129 rows × 8 columns</p>\n",
       "</div>"
      ],
      "text/plain": [
       "             id  rent        street_number        lat       lng  \\\n",
       "2    3000166218  1150     Lindenstrasse 76  47.433056  9.393829   \n",
       "4    3000402506  2130      Goliathgasse 37  47.427975  9.377123   \n",
       "9    3000836173  1090         Langgasse 89  47.440033  9.391563   \n",
       "11   3000872761  1180  Linsebühlstrasse 16  47.424324  9.380756   \n",
       "12   3000873636  1640        Ludwigstr. 21  47.441250  9.378373   \n",
       "..          ...   ...                  ...        ...       ...   \n",
       "525  3001451526   940         Engelgasse 8  47.426357  9.374825   \n",
       "528  3001454103  1180         Langgasse 46  47.437061  9.388271   \n",
       "529  3001454127  1590         Langgasse 46  47.437061  9.388271   \n",
       "544  3001465599  1240   Moosbruggstrasse 5  47.423676  9.379521   \n",
       "547  3001470695  1340          Höhenweg 13  47.429504  9.372371   \n",
       "\n",
       "           duration  duration_seconds  distance_meters  \n",
       "2    0:04:09.600000             249.6           1870.4  \n",
       "4    0:02:56.700000             176.7           1433.4  \n",
       "9    0:03:33.400000             213.4           1702.3  \n",
       "11   0:03:17.200000             197.2           1792.9  \n",
       "12   0:03:18.600000             198.6           1647.7  \n",
       "..              ...               ...              ...  \n",
       "525  0:03:59.600000             239.6           1607.2  \n",
       "528  0:02:55.800000             175.8           1286.1  \n",
       "529  0:02:55.800000             175.8           1286.1  \n",
       "544  0:03:21.600000             201.6           1823.4  \n",
       "547  0:01:47.300000             107.3            716.9  \n",
       "\n",
       "[129 rows x 8 columns]"
      ]
     },
     "execution_count": 77,
     "metadata": {},
     "output_type": "execute_result"
    }
   ],
   "source": [
    "immo[immo.distance_meters <= 2000]"
   ]
  },
  {
   "cell_type": "code",
   "execution_count": null,
   "metadata": {},
   "outputs": [],
   "source": []
  }
 ],
 "metadata": {
  "interpreter": {
   "hash": "752579dbebe7f4dfe7c1aa72eac13e23fc88be2cc1ea7ab14e1f8d69b2d97d12"
  },
  "kernelspec": {
   "display_name": "Python 3.7.3 64-bit",
   "language": "python",
   "name": "python3"
  },
  "language_info": {
   "codemirror_mode": {
    "name": "ipython",
    "version": 3
   },
   "file_extension": ".py",
   "mimetype": "text/x-python",
   "name": "python",
   "nbconvert_exporter": "python",
   "pygments_lexer": "ipython3",
   "version": "3.8.3"
  },
  "orig_nbformat": 4
 },
 "nbformat": 4,
 "nbformat_minor": 2
}
